{
 "cells": [
  {
   "cell_type": "code",
   "execution_count": 1,
   "metadata": {},
   "outputs": [],
   "source": [
    "import numpy as np\n",
    "\n",
    "x_data = np.array([1,2,3,4,5]).reshape(5, 1) # 5 x 1 행렬로 변환\n",
    "t_data = np.array([2,3,4,5,6]).reshape(5, 1) # 5 x 1 행렬로 변환"
   ]
  },
  {
   "cell_type": "code",
   "execution_count": 3,
   "metadata": {},
   "outputs": [
    {
     "name": "stdout",
     "output_type": "stream",
     "text": [
      "W =  [[0.31404614]] b =  [0.11203416]\n"
     ]
    }
   ],
   "source": [
    "W = np.random.rand(1,1)\n",
    "b = np.random.rand(1)\n",
    "print(\"W = \", W, \"b = \", b)"
   ]
  },
  {
   "cell_type": "code",
   "execution_count": 4,
   "metadata": {},
   "outputs": [],
   "source": [
    "def loss_func(x, t):\n",
    "    y = np.dot(x, W) + b\n",
    "    \n",
    "    return (np.sum((t-y)**2)) / len(x)"
   ]
  },
  {
   "cell_type": "code",
   "execution_count": 5,
   "metadata": {},
   "outputs": [],
   "source": [
    "def numerical_derivative(f, x):\n",
    "    delta_x = 1e-4 # 0.0001\n",
    "    grad = np.zeros_like(x)\n",
    "    \n",
    "    it = np.nditer(x, flags=['multi_index'], op_flags=['readwrite'])\n",
    "    \n",
    "    while not it.finished:\n",
    "        idx = it.multi_index        \n",
    "        tmp_val = x[idx]\n",
    "        x[idx] = float(tmp_val) + delta_x\n",
    "        fx1 = f(x) # f(x+delta_x)\n",
    "        \n",
    "        x[idx] = tmp_val - delta_x \n",
    "        fx2 = f(x) # f(x-delta_x)\n",
    "        grad[idx] = (fx1 - fx2) / (2*delta_x)\n",
    "        \n",
    "        x[idx] = tmp_val \n",
    "        it.iternext()   \n",
    "        \n",
    "    return grad"
   ]
  },
  {
   "cell_type": "code",
   "execution_count": 6,
   "metadata": {},
   "outputs": [],
   "source": [
    "def predict(x):\n",
    "    y = np.dot(x,W) + b\n",
    "    \n",
    "    return y"
   ]
  },
  {
   "cell_type": "code",
   "execution_count": 16,
   "metadata": {},
   "outputs": [],
   "source": [
    "learning_rate = 1e-3"
   ]
  },
  {
   "cell_type": "code",
   "execution_count": 17,
   "metadata": {},
   "outputs": [
    {
     "name": "stdout",
     "output_type": "stream",
     "text": [
      "initial error value =  1.0984150520256207e-25 \n",
      " initial W =  [[1.]] \n",
      " b =  [1.]\n"
     ]
    }
   ],
   "source": [
    "f = lambda x : loss_func(x_data, t_data)\n",
    "\n",
    "print(\"initial error value = \", loss_func(x_data, t_data), \"\\n\",\n",
    "      \"initial W = \", W, \"\\n\",\n",
    "      \"b = \", b)"
   ]
  },
  {
   "cell_type": "code",
   "execution_count": 18,
   "metadata": {},
   "outputs": [
    {
     "name": "stdout",
     "output_type": "stream",
     "text": [
      "step =  0 error value 1.0973024623264196e-25 W =  [[1.]] b =  [1.]\n",
      "step =  400 error value 8.633487017660532e-26 W =  [[1.]] b =  [1.]\n",
      "step =  800 error value 6.55347084480874e-26 W =  [[1.]] b =  [1.]\n",
      "step =  1200 error value 5.0160746177654825e-26 W =  [[1.]] b =  [1.]\n",
      "step =  1600 error value 4.21389774046434e-26 W =  [[1.]] b =  [1.]\n",
      "step =  2000 error value 3.4716545704373635e-26 W =  [[1.]] b =  [1.]\n",
      "step =  2400 error value 2.806001905698296e-26 W =  [[1.]] b =  [1.]\n",
      "step =  2800 error value 2.2091260789809215e-26 W =  [[1.]] b =  [1.]\n",
      "step =  3200 error value 1.6848688428936675e-26 W =  [[1.]] b =  [1.]\n",
      "step =  3600 error value 1.236989119649912e-26 W =  [[1.]] b =  [1.]\n",
      "step =  4000 error value 1.0226989990511502e-26 W =  [[1.]] b =  [1.]\n",
      "step =  4400 error value 1.0226989990511502e-26 W =  [[1.]] b =  [1.]\n",
      "step =  4800 error value 1.0226989990511502e-26 W =  [[1.]] b =  [1.]\n",
      "step =  5200 error value 1.0226989990511502e-26 W =  [[1.]] b =  [1.]\n",
      "step =  5600 error value 1.0226989990511502e-26 W =  [[1.]] b =  [1.]\n",
      "step =  6000 error value 1.0226989990511502e-26 W =  [[1.]] b =  [1.]\n",
      "step =  6400 error value 1.0226989990511502e-26 W =  [[1.]] b =  [1.]\n",
      "step =  6800 error value 1.0226989990511502e-26 W =  [[1.]] b =  [1.]\n",
      "step =  7200 error value 1.0226989990511502e-26 W =  [[1.]] b =  [1.]\n",
      "step =  7600 error value 1.0226989990511502e-26 W =  [[1.]] b =  [1.]\n"
     ]
    }
   ],
   "source": [
    "for step in range(8000):\n",
    "    W -= learning_rate * numerical_derivative(f, W)\n",
    "    b -= learning_rate * numerical_derivative(f, b)\n",
    "    \n",
    "    if (step % 400 == 0):\n",
    "        print(\"step = \", step, \"error value\", loss_func(x_data, t_data),\n",
    "             \"W = \",W, \"b = \", b)"
   ]
  },
  {
   "cell_type": "code",
   "execution_count": 19,
   "metadata": {},
   "outputs": [
    {
     "data": {
      "text/plain": [
       "array([[44.]])"
      ]
     },
     "execution_count": 19,
     "metadata": {},
     "output_type": "execute_result"
    }
   ],
   "source": [
    "predict(43)"
   ]
  },
  {
   "cell_type": "code",
   "execution_count": null,
   "metadata": {},
   "outputs": [],
   "source": []
  }
 ],
 "metadata": {
  "kernelspec": {
   "display_name": "Python 3",
   "language": "python",
   "name": "python3"
  },
  "language_info": {
   "codemirror_mode": {
    "name": "ipython",
    "version": 3
   },
   "file_extension": ".py",
   "mimetype": "text/x-python",
   "name": "python",
   "nbconvert_exporter": "python",
   "pygments_lexer": "ipython3",
   "version": "3.7.6"
  }
 },
 "nbformat": 4,
 "nbformat_minor": 4
}
