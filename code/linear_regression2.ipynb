{
 "cells": [
  {
   "cell_type": "code",
   "execution_count": 64,
   "metadata": {},
   "outputs": [],
   "source": [
    "import numpy as np\n",
    "\n",
    "loaded_data = np.loadtxt('./score.csv', delimiter=',', dtype=np.float32)\n",
    "\n",
    "x_data = loaded_data[:, 0:-1] # 0:-1 : 마지막 열 전까지 x_data\n",
    "t_data = loaded_data[:, [-1]] # [-1] : 마지막 열이 t_data"
   ]
  },
  {
   "cell_type": "code",
   "execution_count": 65,
   "metadata": {},
   "outputs": [
    {
     "name": "stdout",
     "output_type": "stream",
     "text": [
      "W =  [[0.4076765 ]\n",
      " [0.86700062]\n",
      " [0.96897   ]] \n",
      "\n",
      " b =  [0.64685475]\n"
     ]
    }
   ],
   "source": [
    "W = np.random.rand(3,1) # 3x1 행렬\n",
    "b = np.random.rand(1)\n",
    "\n",
    "print(\"W = \", W, \"\\n\\n\",\n",
    "      \"b = \", b)"
   ]
  },
  {
   "cell_type": "code",
   "execution_count": 66,
   "metadata": {},
   "outputs": [],
   "source": [
    "def loss_func(x, t):\n",
    "    y = np.dot(x, W) + b\n",
    "    \n",
    "    return (np.sum((t-y)**2)) / len(x)"
   ]
  },
  {
   "cell_type": "code",
   "execution_count": 67,
   "metadata": {},
   "outputs": [],
   "source": [
    "def numerical_derivative(f, x):\n",
    "    delta_x = 1e-4 # 0.0001\n",
    "    grad = np.zeros_like(x)\n",
    "    \n",
    "    it = np.nditer(x, flags=['multi_index'], op_flags=['readwrite'])\n",
    "    \n",
    "    while not it.finished:\n",
    "        idx = it.multi_index        \n",
    "        tmp_val = x[idx]\n",
    "        x[idx] = float(tmp_val) + delta_x\n",
    "        fx1 = f(x) # f(x+delta_x)\n",
    "        \n",
    "        x[idx] = tmp_val - delta_x \n",
    "        fx2 = f(x) # f(x-delta_x)\n",
    "        grad[idx] = (fx1 - fx2) / (2*delta_x)\n",
    "        \n",
    "        x[idx] = tmp_val \n",
    "        it.iternext()   \n",
    "        \n",
    "    return grad"
   ]
  },
  {
   "cell_type": "code",
   "execution_count": 68,
   "metadata": {},
   "outputs": [],
   "source": [
    "def predict(x):\n",
    "    y = np.dot(x,W) + b\n",
    "    \n",
    "    return y"
   ]
  },
  {
   "cell_type": "code",
   "execution_count": 69,
   "metadata": {},
   "outputs": [],
   "source": [
    "learning_rate = 1e-5"
   ]
  },
  {
   "cell_type": "code",
   "execution_count": 70,
   "metadata": {},
   "outputs": [
    {
     "name": "stdout",
     "output_type": "stream",
     "text": [
      "initial error value =  363.01950547263084 \n",
      " initial W =  [[0.4076765 ]\n",
      " [0.86700062]\n",
      " [0.96897   ]] \n",
      " b =  [0.64685475]\n"
     ]
    }
   ],
   "source": [
    "f = lambda x : loss_func(x_data, t_data)\n",
    "\n",
    "print(\"initial error value = \", loss_func(x_data, t_data), \"\\n\",\n",
    "      \"initial W = \", W, \"\\n\",\n",
    "      \"b = \", b)"
   ]
  },
  {
   "cell_type": "code",
   "execution_count": 71,
   "metadata": {},
   "outputs": [
    {
     "name": "stdout",
     "output_type": "stream",
     "text": [
      "step =  0 error value 139.8364266931389 \n",
      " W =  [[0.37761007]\n",
      " [0.83665318]\n",
      " [0.93813565]] \n",
      " b =  [0.64662696]\n",
      "step =  400 error value 8.10707250720816 \n",
      " W =  [[0.33236144]\n",
      " [0.7486067 ]\n",
      " [0.92897916]] \n",
      " b =  [0.64575273]\n",
      "step =  800 error value 7.543883569331689 \n",
      " W =  [[0.33378966]\n",
      " [0.71403587]\n",
      " [0.96138081]] \n",
      " b =  [0.64518855]\n",
      "step =  1200 error value 7.148713574009601 \n",
      " W =  [[0.33521554]\n",
      " [0.68497592]\n",
      " [0.98839988]] \n",
      " b =  [0.64458987]\n",
      "step =  1600 error value 6.871364036014249 \n",
      " W =  [[0.33661755]\n",
      " [0.66054056]\n",
      " [1.0109233 ]] \n",
      " b =  [0.64396245]\n",
      "step =  2000 error value 6.676644918536815 \n",
      " W =  [[0.33797974]\n",
      " [0.63998684]\n",
      " [1.02969255]] \n",
      " b =  [0.64331111]\n",
      "step =  2400 error value 6.53988541492187 \n",
      " W =  [[0.33929067]\n",
      " [0.62269181]\n",
      " [1.04532743]] \n",
      " b =  [0.64263987]\n",
      "step =  2800 error value 6.443787868499242 \n",
      " W =  [[0.34054245]\n",
      " [0.60813315]\n",
      " [1.058346  ]] \n",
      " b =  [0.64195208]\n",
      "step =  3200 error value 6.37622290987783 \n",
      " W =  [[0.34173002]\n",
      " [0.59587281]\n",
      " [1.06918119]] \n",
      " b =  [0.64125054]\n",
      "step =  3600 error value 6.328684173485946 \n",
      " W =  [[0.34285057]\n",
      " [0.58554337]\n",
      " [1.07819478]] \n",
      " b =  [0.64053759]\n",
      "step =  4000 error value 6.295205238632709 \n",
      " W =  [[0.34390297]\n",
      " [0.5768366 ]\n",
      " [1.08568902]] \n",
      " b =  [0.63981517]\n",
      "step =  4400 error value 6.271600499308222 \n",
      " W =  [[0.34488745]\n",
      " [0.56949389]\n",
      " [1.09191639]] \n",
      " b =  [0.63908491]\n",
      "step =  4800 error value 6.254933050920556 \n",
      " W =  [[0.34580523]\n",
      " [0.56329821]\n",
      " [1.09708778]] \n",
      " b =  [0.63834816]\n",
      "step =  5200 error value 6.243141681130939 \n",
      " W =  [[0.34665825]\n",
      " [0.5580674 ]\n",
      " [1.10137928]] \n",
      " b =  [0.63760605]\n",
      "step =  5600 error value 6.234779372590323 \n",
      " W =  [[0.34744901]\n",
      " [0.55364854]\n",
      " [1.10493791]] \n",
      " b =  [0.63685952]\n",
      "step =  6000 error value 6.228829964970235 \n",
      " W =  [[0.34818036]\n",
      " [0.54991319]\n",
      " [1.1078864 ]] \n",
      " b =  [0.63610935]\n",
      "step =  6400 error value 6.224579602146606 \n",
      " W =  [[0.34885536]\n",
      " [0.54675349]\n",
      " [1.11032713]] \n",
      " b =  [0.63535619]\n",
      "step =  6800 error value 6.221526582971644 \n",
      " W =  [[0.34947723]\n",
      " [0.54407883]\n",
      " [1.11234557]] \n",
      " b =  [0.63460058]\n",
      "step =  7200 error value 6.21931813432613 \n",
      " W =  [[0.35004922]\n",
      " [0.54181303]\n",
      " [1.11401295]] \n",
      " b =  [0.63384296]\n",
      "step =  7600 error value 6.21770605922913 \n",
      " W =  [[0.35057455]\n",
      " [0.53989208]\n",
      " [1.11538871]] \n",
      " b =  [0.63308372]\n",
      "step =  8000 error value 6.216515619433755 \n",
      " W =  [[0.35105641]\n",
      " [0.53826213]\n",
      " [1.11652237]] \n",
      " b =  [0.63232317]\n",
      "step =  8400 error value 6.215623698610542 \n",
      " W =  [[0.35149787]\n",
      " [0.5368779 ]\n",
      " [1.11745518]] \n",
      " b =  [0.63156155]\n",
      "step =  8800 error value 6.2149434743408 \n",
      " W =  [[0.35190189]\n",
      " [0.53570128]\n",
      " [1.11822152]] \n",
      " b =  [0.63079908]\n",
      "step =  9200 error value 6.214413655680584 \n",
      " W =  [[0.35227128]\n",
      " [0.53470017]\n",
      " [1.11885   ]] \n",
      " b =  [0.63003594]\n",
      "step =  9600 error value 6.213990923800675 \n",
      " W =  [[0.35260873]\n",
      " [0.53384755]\n",
      " [1.11936443]] \n",
      " b =  [0.62927228]\n",
      "step =  10000 error value 6.21364462028747 \n",
      " W =  [[0.35291675]\n",
      " [0.53312066]\n",
      " [1.11978461]] \n",
      " b =  [0.62850821]\n"
     ]
    }
   ],
   "source": [
    "for step in range(10001):\n",
    "    W -= learning_rate * numerical_derivative(f, W)\n",
    "    b -= learning_rate * numerical_derivative(f, b)\n",
    "    \n",
    "    if (step % 400 == 0):\n",
    "        print(\"step = \", step, \"error value\", loss_func(x_data, t_data), \"\\n\",\n",
    "             \"W = \",W, \"\\n\",\n",
    "              \"b = \", b)"
   ]
  },
  {
   "cell_type": "code",
   "execution_count": 72,
   "metadata": {},
   "outputs": [
    {
     "data": {
      "text/plain": [
       "array([178.86856079])"
      ]
     },
     "execution_count": 72,
     "metadata": {},
     "output_type": "execute_result"
    }
   ],
   "source": [
    "test_data = np.array([100, 98, 81])\n",
    "\n",
    "predict(test_data)"
   ]
  },
  {
   "cell_type": "code",
   "execution_count": null,
   "metadata": {},
   "outputs": [],
   "source": []
  }
 ],
 "metadata": {
  "kernelspec": {
   "display_name": "Python 3",
   "language": "python",
   "name": "python3"
  },
  "language_info": {
   "codemirror_mode": {
    "name": "ipython",
    "version": 3
   },
   "file_extension": ".py",
   "mimetype": "text/x-python",
   "name": "python",
   "nbconvert_exporter": "python",
   "pygments_lexer": "ipython3",
   "version": "3.7.6"
  }
 },
 "nbformat": 4,
 "nbformat_minor": 4
}
